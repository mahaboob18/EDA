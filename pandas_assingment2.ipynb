{
 "cells": [
  {
   "cell_type": "code",
   "execution_count": 5,
   "id": "c6ba44e8",
   "metadata": {},
   "outputs": [],
   "source": [
    "import pandas as pd\n",
    "import numpy as np"
   ]
  },
  {
   "cell_type": "code",
   "execution_count": 6,
   "id": "083b4c1f",
   "metadata": {},
   "outputs": [
    {
     "data": {
      "text/html": [
       "<div>\n",
       "<style scoped>\n",
       "    .dataframe tbody tr th:only-of-type {\n",
       "        vertical-align: middle;\n",
       "    }\n",
       "\n",
       "    .dataframe tbody tr th {\n",
       "        vertical-align: top;\n",
       "    }\n",
       "\n",
       "    .dataframe thead th {\n",
       "        text-align: right;\n",
       "    }\n",
       "</style>\n",
       "<table border=\"1\" class=\"dataframe\">\n",
       "  <thead>\n",
       "    <tr style=\"text-align: right;\">\n",
       "      <th></th>\n",
       "      <th>Department_ID</th>\n",
       "      <th>Department_Name</th>\n",
       "      <th>Location</th>\n",
       "    </tr>\n",
       "  </thead>\n",
       "  <tbody>\n",
       "    <tr>\n",
       "      <th>0</th>\n",
       "      <td>1</td>\n",
       "      <td>IT</td>\n",
       "      <td>New York</td>\n",
       "    </tr>\n",
       "    <tr>\n",
       "      <th>1</th>\n",
       "      <td>2</td>\n",
       "      <td>HR</td>\n",
       "      <td>San Francisco</td>\n",
       "    </tr>\n",
       "    <tr>\n",
       "      <th>2</th>\n",
       "      <td>3</td>\n",
       "      <td>Finance</td>\n",
       "      <td>Chicago</td>\n",
       "    </tr>\n",
       "    <tr>\n",
       "      <th>3</th>\n",
       "      <td>4</td>\n",
       "      <td>Marketing</td>\n",
       "      <td>Los Angeles</td>\n",
       "    </tr>\n",
       "    <tr>\n",
       "      <th>4</th>\n",
       "      <td>5</td>\n",
       "      <td>Operations</td>\n",
       "      <td>Seattle</td>\n",
       "    </tr>\n",
       "  </tbody>\n",
       "</table>\n",
       "</div>"
      ],
      "text/plain": [
       "   Department_ID Department_Name       Location\n",
       "0              1              IT       New York\n",
       "1              2              HR  San Francisco\n",
       "2              3         Finance        Chicago\n",
       "3              4       Marketing    Los Angeles\n",
       "4              5      Operations        Seattle"
      ]
     },
     "execution_count": 6,
     "metadata": {},
     "output_type": "execute_result"
    }
   ],
   "source": [
    "dep=pd.read_csv(r\"C:\\Users\\mahab\\Downloads\\Telegram Desktop\\departments.csv\")\n",
    "dep"
   ]
  },
  {
   "cell_type": "code",
   "execution_count": 8,
   "id": "4cf69f17",
   "metadata": {},
   "outputs": [
    {
     "data": {
      "text/html": [
       "<div>\n",
       "<style scoped>\n",
       "    .dataframe tbody tr th:only-of-type {\n",
       "        vertical-align: middle;\n",
       "    }\n",
       "\n",
       "    .dataframe tbody tr th {\n",
       "        vertical-align: top;\n",
       "    }\n",
       "\n",
       "    .dataframe thead th {\n",
       "        text-align: right;\n",
       "    }\n",
       "</style>\n",
       "<table border=\"1\" class=\"dataframe\">\n",
       "  <thead>\n",
       "    <tr style=\"text-align: right;\">\n",
       "      <th></th>\n",
       "      <th>Employee_ID</th>\n",
       "      <th>Name</th>\n",
       "      <th>Department_ID</th>\n",
       "      <th>Salary</th>\n",
       "    </tr>\n",
       "  </thead>\n",
       "  <tbody>\n",
       "    <tr>\n",
       "      <th>0</th>\n",
       "      <td>101</td>\n",
       "      <td>Alice Brown</td>\n",
       "      <td>1.0</td>\n",
       "      <td>60000</td>\n",
       "    </tr>\n",
       "    <tr>\n",
       "      <th>1</th>\n",
       "      <td>102</td>\n",
       "      <td>Bob Smith</td>\n",
       "      <td>2.0</td>\n",
       "      <td>45000</td>\n",
       "    </tr>\n",
       "    <tr>\n",
       "      <th>2</th>\n",
       "      <td>103</td>\n",
       "      <td>Charlie Doe</td>\n",
       "      <td>1.0</td>\n",
       "      <td>75000</td>\n",
       "    </tr>\n",
       "    <tr>\n",
       "      <th>3</th>\n",
       "      <td>104</td>\n",
       "      <td>Daisy Evans</td>\n",
       "      <td>3.0</td>\n",
       "      <td>50000</td>\n",
       "    </tr>\n",
       "    <tr>\n",
       "      <th>4</th>\n",
       "      <td>105</td>\n",
       "      <td>Eva Taylor</td>\n",
       "      <td>4.0</td>\n",
       "      <td>80000</td>\n",
       "    </tr>\n",
       "    <tr>\n",
       "      <th>5</th>\n",
       "      <td>106</td>\n",
       "      <td>Frank Wilson</td>\n",
       "      <td>NaN</td>\n",
       "      <td>40000</td>\n",
       "    </tr>\n",
       "  </tbody>\n",
       "</table>\n",
       "</div>"
      ],
      "text/plain": [
       "   Employee_ID          Name  Department_ID  Salary\n",
       "0          101   Alice Brown            1.0   60000\n",
       "1          102     Bob Smith            2.0   45000\n",
       "2          103   Charlie Doe            1.0   75000\n",
       "3          104   Daisy Evans            3.0   50000\n",
       "4          105    Eva Taylor            4.0   80000\n",
       "5          106  Frank Wilson            NaN   40000"
      ]
     },
     "execution_count": 8,
     "metadata": {},
     "output_type": "execute_result"
    }
   ],
   "source": [
    "emp=pd.read_csv(r\"C:\\Users\\mahab\\Downloads\\Telegram Desktop\\employees.csv\")\n",
    "emp"
   ]
  },
  {
   "cell_type": "code",
   "execution_count": 9,
   "id": "c98f5c94",
   "metadata": {},
   "outputs": [
    {
     "data": {
      "text/html": [
       "<div>\n",
       "<style scoped>\n",
       "    .dataframe tbody tr th:only-of-type {\n",
       "        vertical-align: middle;\n",
       "    }\n",
       "\n",
       "    .dataframe tbody tr th {\n",
       "        vertical-align: top;\n",
       "    }\n",
       "\n",
       "    .dataframe thead th {\n",
       "        text-align: right;\n",
       "    }\n",
       "</style>\n",
       "<table border=\"1\" class=\"dataframe\">\n",
       "  <thead>\n",
       "    <tr style=\"text-align: right;\">\n",
       "      <th></th>\n",
       "      <th>Employee_ID</th>\n",
       "      <th>Name</th>\n",
       "      <th>Department_ID</th>\n",
       "      <th>Salary</th>\n",
       "      <th>Department_Name</th>\n",
       "      <th>Location</th>\n",
       "    </tr>\n",
       "  </thead>\n",
       "  <tbody>\n",
       "    <tr>\n",
       "      <th>0</th>\n",
       "      <td>101</td>\n",
       "      <td>Alice Brown</td>\n",
       "      <td>1.0</td>\n",
       "      <td>60000</td>\n",
       "      <td>IT</td>\n",
       "      <td>New York</td>\n",
       "    </tr>\n",
       "    <tr>\n",
       "      <th>1</th>\n",
       "      <td>103</td>\n",
       "      <td>Charlie Doe</td>\n",
       "      <td>1.0</td>\n",
       "      <td>75000</td>\n",
       "      <td>IT</td>\n",
       "      <td>New York</td>\n",
       "    </tr>\n",
       "    <tr>\n",
       "      <th>2</th>\n",
       "      <td>102</td>\n",
       "      <td>Bob Smith</td>\n",
       "      <td>2.0</td>\n",
       "      <td>45000</td>\n",
       "      <td>HR</td>\n",
       "      <td>San Francisco</td>\n",
       "    </tr>\n",
       "    <tr>\n",
       "      <th>3</th>\n",
       "      <td>104</td>\n",
       "      <td>Daisy Evans</td>\n",
       "      <td>3.0</td>\n",
       "      <td>50000</td>\n",
       "      <td>Finance</td>\n",
       "      <td>Chicago</td>\n",
       "    </tr>\n",
       "    <tr>\n",
       "      <th>4</th>\n",
       "      <td>105</td>\n",
       "      <td>Eva Taylor</td>\n",
       "      <td>4.0</td>\n",
       "      <td>80000</td>\n",
       "      <td>Marketing</td>\n",
       "      <td>Los Angeles</td>\n",
       "    </tr>\n",
       "  </tbody>\n",
       "</table>\n",
       "</div>"
      ],
      "text/plain": [
       "   Employee_ID         Name  Department_ID  Salary Department_Name  \\\n",
       "0          101  Alice Brown            1.0   60000              IT   \n",
       "1          103  Charlie Doe            1.0   75000              IT   \n",
       "2          102    Bob Smith            2.0   45000              HR   \n",
       "3          104  Daisy Evans            3.0   50000         Finance   \n",
       "4          105   Eva Taylor            4.0   80000       Marketing   \n",
       "\n",
       "        Location  \n",
       "0       New York  \n",
       "1       New York  \n",
       "2  San Francisco  \n",
       "3        Chicago  \n",
       "4    Los Angeles  "
      ]
     },
     "execution_count": 9,
     "metadata": {},
     "output_type": "execute_result"
    }
   ],
   "source": [
    "# Inner Join: Perform an inner join between the employees and departments datasets\n",
    "# to get information about employees along with their department names and locations.\n",
    "inner_join=pd.merge(emp,dep,on=['Department_ID'],how=\"inner\")\n",
    "inner_join"
   ]
  },
  {
   "cell_type": "code",
   "execution_count": 10,
   "id": "77bbc963",
   "metadata": {},
   "outputs": [
    {
     "data": {
      "text/html": [
       "<div>\n",
       "<style scoped>\n",
       "    .dataframe tbody tr th:only-of-type {\n",
       "        vertical-align: middle;\n",
       "    }\n",
       "\n",
       "    .dataframe tbody tr th {\n",
       "        vertical-align: top;\n",
       "    }\n",
       "\n",
       "    .dataframe thead th {\n",
       "        text-align: right;\n",
       "    }\n",
       "</style>\n",
       "<table border=\"1\" class=\"dataframe\">\n",
       "  <thead>\n",
       "    <tr style=\"text-align: right;\">\n",
       "      <th></th>\n",
       "      <th>Employee_ID</th>\n",
       "      <th>Name</th>\n",
       "      <th>Department_ID</th>\n",
       "      <th>Salary</th>\n",
       "      <th>Department_Name</th>\n",
       "      <th>Location</th>\n",
       "    </tr>\n",
       "  </thead>\n",
       "  <tbody>\n",
       "    <tr>\n",
       "      <th>0</th>\n",
       "      <td>101</td>\n",
       "      <td>Alice Brown</td>\n",
       "      <td>1.0</td>\n",
       "      <td>60000</td>\n",
       "      <td>IT</td>\n",
       "      <td>New York</td>\n",
       "    </tr>\n",
       "    <tr>\n",
       "      <th>1</th>\n",
       "      <td>102</td>\n",
       "      <td>Bob Smith</td>\n",
       "      <td>2.0</td>\n",
       "      <td>45000</td>\n",
       "      <td>HR</td>\n",
       "      <td>San Francisco</td>\n",
       "    </tr>\n",
       "    <tr>\n",
       "      <th>2</th>\n",
       "      <td>103</td>\n",
       "      <td>Charlie Doe</td>\n",
       "      <td>1.0</td>\n",
       "      <td>75000</td>\n",
       "      <td>IT</td>\n",
       "      <td>New York</td>\n",
       "    </tr>\n",
       "    <tr>\n",
       "      <th>3</th>\n",
       "      <td>104</td>\n",
       "      <td>Daisy Evans</td>\n",
       "      <td>3.0</td>\n",
       "      <td>50000</td>\n",
       "      <td>Finance</td>\n",
       "      <td>Chicago</td>\n",
       "    </tr>\n",
       "    <tr>\n",
       "      <th>4</th>\n",
       "      <td>105</td>\n",
       "      <td>Eva Taylor</td>\n",
       "      <td>4.0</td>\n",
       "      <td>80000</td>\n",
       "      <td>Marketing</td>\n",
       "      <td>Los Angeles</td>\n",
       "    </tr>\n",
       "    <tr>\n",
       "      <th>5</th>\n",
       "      <td>106</td>\n",
       "      <td>Frank Wilson</td>\n",
       "      <td>NaN</td>\n",
       "      <td>40000</td>\n",
       "      <td>NaN</td>\n",
       "      <td>NaN</td>\n",
       "    </tr>\n",
       "  </tbody>\n",
       "</table>\n",
       "</div>"
      ],
      "text/plain": [
       "   Employee_ID          Name  Department_ID  Salary Department_Name  \\\n",
       "0          101   Alice Brown            1.0   60000              IT   \n",
       "1          102     Bob Smith            2.0   45000              HR   \n",
       "2          103   Charlie Doe            1.0   75000              IT   \n",
       "3          104   Daisy Evans            3.0   50000         Finance   \n",
       "4          105    Eva Taylor            4.0   80000       Marketing   \n",
       "5          106  Frank Wilson            NaN   40000             NaN   \n",
       "\n",
       "        Location  \n",
       "0       New York  \n",
       "1  San Francisco  \n",
       "2       New York  \n",
       "3        Chicago  \n",
       "4    Los Angeles  \n",
       "5            NaN  "
      ]
     },
     "execution_count": 10,
     "metadata": {},
     "output_type": "execute_result"
    }
   ],
   "source": [
    "#Left Join: Perform a left join between the employees and departments dat\n",
    "left_join=pd.merge(emp,dep,on=['Department_ID'],how=\"left\")\n",
    "left_join"
   ]
  },
  {
   "cell_type": "code",
   "execution_count": 11,
   "id": "a21c36db",
   "metadata": {},
   "outputs": [
    {
     "data": {
      "text/html": [
       "<div>\n",
       "<style scoped>\n",
       "    .dataframe tbody tr th:only-of-type {\n",
       "        vertical-align: middle;\n",
       "    }\n",
       "\n",
       "    .dataframe tbody tr th {\n",
       "        vertical-align: top;\n",
       "    }\n",
       "\n",
       "    .dataframe thead th {\n",
       "        text-align: right;\n",
       "    }\n",
       "</style>\n",
       "<table border=\"1\" class=\"dataframe\">\n",
       "  <thead>\n",
       "    <tr style=\"text-align: right;\">\n",
       "      <th></th>\n",
       "      <th>Department_ID</th>\n",
       "      <th>Department_Name</th>\n",
       "      <th>Location</th>\n",
       "      <th>Employee_ID</th>\n",
       "      <th>Name</th>\n",
       "      <th>Salary</th>\n",
       "    </tr>\n",
       "  </thead>\n",
       "  <tbody>\n",
       "    <tr>\n",
       "      <th>0</th>\n",
       "      <td>1.0</td>\n",
       "      <td>IT</td>\n",
       "      <td>New York</td>\n",
       "      <td>101</td>\n",
       "      <td>Alice Brown</td>\n",
       "      <td>60000</td>\n",
       "    </tr>\n",
       "    <tr>\n",
       "      <th>1</th>\n",
       "      <td>2.0</td>\n",
       "      <td>HR</td>\n",
       "      <td>San Francisco</td>\n",
       "      <td>102</td>\n",
       "      <td>Bob Smith</td>\n",
       "      <td>45000</td>\n",
       "    </tr>\n",
       "    <tr>\n",
       "      <th>2</th>\n",
       "      <td>1.0</td>\n",
       "      <td>IT</td>\n",
       "      <td>New York</td>\n",
       "      <td>103</td>\n",
       "      <td>Charlie Doe</td>\n",
       "      <td>75000</td>\n",
       "    </tr>\n",
       "    <tr>\n",
       "      <th>3</th>\n",
       "      <td>3.0</td>\n",
       "      <td>Finance</td>\n",
       "      <td>Chicago</td>\n",
       "      <td>104</td>\n",
       "      <td>Daisy Evans</td>\n",
       "      <td>50000</td>\n",
       "    </tr>\n",
       "    <tr>\n",
       "      <th>4</th>\n",
       "      <td>4.0</td>\n",
       "      <td>Marketing</td>\n",
       "      <td>Los Angeles</td>\n",
       "      <td>105</td>\n",
       "      <td>Eva Taylor</td>\n",
       "      <td>80000</td>\n",
       "    </tr>\n",
       "    <tr>\n",
       "      <th>5</th>\n",
       "      <td>NaN</td>\n",
       "      <td>NaN</td>\n",
       "      <td>NaN</td>\n",
       "      <td>106</td>\n",
       "      <td>Frank Wilson</td>\n",
       "      <td>40000</td>\n",
       "    </tr>\n",
       "  </tbody>\n",
       "</table>\n",
       "</div>"
      ],
      "text/plain": [
       "   Department_ID Department_Name       Location  Employee_ID          Name  \\\n",
       "0            1.0              IT       New York          101   Alice Brown   \n",
       "1            2.0              HR  San Francisco          102     Bob Smith   \n",
       "2            1.0              IT       New York          103   Charlie Doe   \n",
       "3            3.0         Finance        Chicago          104   Daisy Evans   \n",
       "4            4.0       Marketing    Los Angeles          105    Eva Taylor   \n",
       "5            NaN             NaN            NaN          106  Frank Wilson   \n",
       "\n",
       "   Salary  \n",
       "0   60000  \n",
       "1   45000  \n",
       "2   75000  \n",
       "3   50000  \n",
       "4   80000  \n",
       "5   40000  "
      ]
     },
     "execution_count": 11,
     "metadata": {},
     "output_type": "execute_result"
    }
   ],
   "source": [
    "# Right Join: Perform a right join between the departments and employees datase\n",
    "right_join=pd.merge(dep,emp,on=['Department_ID'],how=\"right\")\n",
    "right_join"
   ]
  },
  {
   "cell_type": "code",
   "execution_count": 12,
   "id": "783d8327",
   "metadata": {},
   "outputs": [
    {
     "data": {
      "text/html": [
       "<div>\n",
       "<style scoped>\n",
       "    .dataframe tbody tr th:only-of-type {\n",
       "        vertical-align: middle;\n",
       "    }\n",
       "\n",
       "    .dataframe tbody tr th {\n",
       "        vertical-align: top;\n",
       "    }\n",
       "\n",
       "    .dataframe thead th {\n",
       "        text-align: right;\n",
       "    }\n",
       "</style>\n",
       "<table border=\"1\" class=\"dataframe\">\n",
       "  <thead>\n",
       "    <tr style=\"text-align: right;\">\n",
       "      <th></th>\n",
       "      <th>Employee_ID</th>\n",
       "      <th>Name</th>\n",
       "      <th>Department_ID</th>\n",
       "      <th>Salary</th>\n",
       "      <th>Department_Name</th>\n",
       "      <th>Location</th>\n",
       "    </tr>\n",
       "  </thead>\n",
       "  <tbody>\n",
       "    <tr>\n",
       "      <th>0</th>\n",
       "      <td>101.0</td>\n",
       "      <td>Alice Brown</td>\n",
       "      <td>1.0</td>\n",
       "      <td>60000.0</td>\n",
       "      <td>IT</td>\n",
       "      <td>New York</td>\n",
       "    </tr>\n",
       "    <tr>\n",
       "      <th>1</th>\n",
       "      <td>103.0</td>\n",
       "      <td>Charlie Doe</td>\n",
       "      <td>1.0</td>\n",
       "      <td>75000.0</td>\n",
       "      <td>IT</td>\n",
       "      <td>New York</td>\n",
       "    </tr>\n",
       "    <tr>\n",
       "      <th>2</th>\n",
       "      <td>102.0</td>\n",
       "      <td>Bob Smith</td>\n",
       "      <td>2.0</td>\n",
       "      <td>45000.0</td>\n",
       "      <td>HR</td>\n",
       "      <td>San Francisco</td>\n",
       "    </tr>\n",
       "    <tr>\n",
       "      <th>3</th>\n",
       "      <td>104.0</td>\n",
       "      <td>Daisy Evans</td>\n",
       "      <td>3.0</td>\n",
       "      <td>50000.0</td>\n",
       "      <td>Finance</td>\n",
       "      <td>Chicago</td>\n",
       "    </tr>\n",
       "    <tr>\n",
       "      <th>4</th>\n",
       "      <td>105.0</td>\n",
       "      <td>Eva Taylor</td>\n",
       "      <td>4.0</td>\n",
       "      <td>80000.0</td>\n",
       "      <td>Marketing</td>\n",
       "      <td>Los Angeles</td>\n",
       "    </tr>\n",
       "    <tr>\n",
       "      <th>5</th>\n",
       "      <td>106.0</td>\n",
       "      <td>Frank Wilson</td>\n",
       "      <td>NaN</td>\n",
       "      <td>40000.0</td>\n",
       "      <td>NaN</td>\n",
       "      <td>NaN</td>\n",
       "    </tr>\n",
       "    <tr>\n",
       "      <th>6</th>\n",
       "      <td>NaN</td>\n",
       "      <td>NaN</td>\n",
       "      <td>5.0</td>\n",
       "      <td>NaN</td>\n",
       "      <td>Operations</td>\n",
       "      <td>Seattle</td>\n",
       "    </tr>\n",
       "  </tbody>\n",
       "</table>\n",
       "</div>"
      ],
      "text/plain": [
       "   Employee_ID          Name  Department_ID   Salary Department_Name  \\\n",
       "0        101.0   Alice Brown            1.0  60000.0              IT   \n",
       "1        103.0   Charlie Doe            1.0  75000.0              IT   \n",
       "2        102.0     Bob Smith            2.0  45000.0              HR   \n",
       "3        104.0   Daisy Evans            3.0  50000.0         Finance   \n",
       "4        105.0    Eva Taylor            4.0  80000.0       Marketing   \n",
       "5        106.0  Frank Wilson            NaN  40000.0             NaN   \n",
       "6          NaN           NaN            5.0      NaN      Operations   \n",
       "\n",
       "        Location  \n",
       "0       New York  \n",
       "1       New York  \n",
       "2  San Francisco  \n",
       "3        Chicago  \n",
       "4    Los Angeles  \n",
       "5            NaN  \n",
       "6        Seattle  "
      ]
     },
     "execution_count": 12,
     "metadata": {},
     "output_type": "execute_result"
    }
   ],
   "source": [
    "#Full Outer Join: Perform a full outer join between the employees and departments datasets. \n",
    "outter_join=pd.merge(emp,dep,on=['Department_ID'],how=\"outer\")\n",
    "outter_join"
   ]
  },
  {
   "cell_type": "code",
   "execution_count": 15,
   "id": "942634fc",
   "metadata": {},
   "outputs": [],
   "source": [
    "#"
   ]
  },
  {
   "cell_type": "markdown",
   "id": "99825d12",
   "metadata": {},
   "source": [
    " ## group by"
   ]
  },
  {
   "cell_type": "markdown",
   "id": "4db23b0f",
   "metadata": {},
   "source": [
    "Group Employees by Department:\n",
    " Group the employees dataset by Department_ID and calculate:\n",
    "i) Total salary in each department.\n",
    "ii) Average salary in each department.\n"
   ]
  },
  {
   "cell_type": "code",
   "execution_count": 13,
   "id": "511c11b4",
   "metadata": {},
   "outputs": [
    {
     "name": "stdout",
     "output_type": "stream",
     "text": [
      "\n",
      "Group Employees by Department:\n",
      "   Department_ID  Total_Salary  Average_Salary\n",
      "0            1.0        135000         67500.0\n",
      "1            2.0         45000         45000.0\n",
      "2            3.0         50000         50000.0\n",
      "3            4.0         80000         80000.0\n"
     ]
    }
   ],
   "source": [
    "group_by_department = emp.groupby(\"Department_ID\").agg(\n",
    "    Total_Salary=(\"Salary\", \"sum\"),\n",
    "    Average_Salary=(\"Salary\", \"mean\")\n",
    ").reset_index()\n",
    "print(\"\\nGroup Employees by Department:\")\n",
    "print(group_by_department)"
   ]
  },
  {
   "cell_type": "code",
   "execution_count": null,
   "id": "fc35956a",
   "metadata": {},
   "outputs": [],
   "source": [
    "   "
   ]
  },
  {
   "cell_type": "markdown",
   "id": "3be7d531",
   "metadata": {},
   "source": [
    "Group Departments by Location:\n",
    " Join the datasets and group by Location to find:\n",
    "i) The number of employees in each location.\n",
    "ii) Total salary of employees in each location"
   ]
  },
  {
   "cell_type": "code",
   "execution_count": 14,
   "id": "19510f8f",
   "metadata": {},
   "outputs": [
    {
     "data": {
      "text/html": [
       "<div>\n",
       "<style scoped>\n",
       "    .dataframe tbody tr th:only-of-type {\n",
       "        vertical-align: middle;\n",
       "    }\n",
       "\n",
       "    .dataframe tbody tr th {\n",
       "        vertical-align: top;\n",
       "    }\n",
       "\n",
       "    .dataframe thead th {\n",
       "        text-align: right;\n",
       "    }\n",
       "</style>\n",
       "<table border=\"1\" class=\"dataframe\">\n",
       "  <thead>\n",
       "    <tr style=\"text-align: right;\">\n",
       "      <th></th>\n",
       "      <th>Employee_ID</th>\n",
       "      <th>Name</th>\n",
       "      <th>Department_ID</th>\n",
       "      <th>Salary</th>\n",
       "      <th>Department_Name</th>\n",
       "      <th>Location</th>\n",
       "    </tr>\n",
       "  </thead>\n",
       "  <tbody>\n",
       "    <tr>\n",
       "      <th>0</th>\n",
       "      <td>101</td>\n",
       "      <td>Alice Brown</td>\n",
       "      <td>1.0</td>\n",
       "      <td>60000</td>\n",
       "      <td>IT</td>\n",
       "      <td>New York</td>\n",
       "    </tr>\n",
       "    <tr>\n",
       "      <th>1</th>\n",
       "      <td>103</td>\n",
       "      <td>Charlie Doe</td>\n",
       "      <td>1.0</td>\n",
       "      <td>75000</td>\n",
       "      <td>IT</td>\n",
       "      <td>New York</td>\n",
       "    </tr>\n",
       "    <tr>\n",
       "      <th>2</th>\n",
       "      <td>102</td>\n",
       "      <td>Bob Smith</td>\n",
       "      <td>2.0</td>\n",
       "      <td>45000</td>\n",
       "      <td>HR</td>\n",
       "      <td>San Francisco</td>\n",
       "    </tr>\n",
       "    <tr>\n",
       "      <th>3</th>\n",
       "      <td>104</td>\n",
       "      <td>Daisy Evans</td>\n",
       "      <td>3.0</td>\n",
       "      <td>50000</td>\n",
       "      <td>Finance</td>\n",
       "      <td>Chicago</td>\n",
       "    </tr>\n",
       "    <tr>\n",
       "      <th>4</th>\n",
       "      <td>105</td>\n",
       "      <td>Eva Taylor</td>\n",
       "      <td>4.0</td>\n",
       "      <td>80000</td>\n",
       "      <td>Marketing</td>\n",
       "      <td>Los Angeles</td>\n",
       "    </tr>\n",
       "  </tbody>\n",
       "</table>\n",
       "</div>"
      ],
      "text/plain": [
       "   Employee_ID         Name  Department_ID  Salary Department_Name  \\\n",
       "0          101  Alice Brown            1.0   60000              IT   \n",
       "1          103  Charlie Doe            1.0   75000              IT   \n",
       "2          102    Bob Smith            2.0   45000              HR   \n",
       "3          104  Daisy Evans            3.0   50000         Finance   \n",
       "4          105   Eva Taylor            4.0   80000       Marketing   \n",
       "\n",
       "        Location  \n",
       "0       New York  \n",
       "1       New York  \n",
       "2  San Francisco  \n",
       "3        Chicago  \n",
       "4    Los Angeles  "
      ]
     },
     "execution_count": 14,
     "metadata": {},
     "output_type": "execute_result"
    }
   ],
   "source": [
    "jp=pd.merge(emp,dep,on=['Department_ID'],how=\"inner\")\n",
    "jp"
   ]
  },
  {
   "cell_type": "code",
   "execution_count": 15,
   "id": "1d9ea620",
   "metadata": {},
   "outputs": [
    {
     "name": "stdout",
     "output_type": "stream",
     "text": [
      "Group Deparment by location :\n",
      "        Location  employee_count  total_salary\n",
      "0        Chicago               1         50000\n",
      "1    Los Angeles               1         80000\n",
      "2       New York               2        135000\n",
      "3  San Francisco               1         45000\n"
     ]
    }
   ],
   "source": [
    "group_by_location=jp.groupby(\"Location\").agg(employee_count=(\"Employee_ID\",\"count\"),\n",
    "          total_salary=(\"Salary\",\"sum\")).reset_index()\n",
    "print(\"Group Deparment by location :\")\n",
    "print(group_by_location)"
   ]
  },
  {
   "cell_type": "markdown",
   "id": "a4ac4e57",
   "metadata": {},
   "source": [
    "#Filter employees with a salary above $50,000 and group them by\n",
    "#Department_ID. Calculate the average salary for these employees in each department."
   ]
  },
  {
   "cell_type": "code",
   "execution_count": 47,
   "id": "0aac616f",
   "metadata": {},
   "outputs": [
    {
     "name": "stdout",
     "output_type": "stream",
     "text": [
      "filter and group :\n",
      "   Department_ID  average_salary\n",
      "0            1.0         67500.0\n",
      "1            4.0         80000.0\n"
     ]
    }
   ],
   "source": [
    "filter_emp=emp[emp[\"Salary\"]>50000]\n",
    "group_filter=filter_emp.groupby(\"Department_ID\").agg(average_salary=(\"Salary\",\"mean\")).reset_index()\n",
    "print(\"filter and group :\")\n",
    "print(group_filter)"
   ]
  },
  {
   "cell_type": "markdown",
   "id": "fba48c17",
   "metadata": {},
   "source": [
    "# univariate data analysis"
   ]
  },
  {
   "cell_type": "code",
   "execution_count": 16,
   "id": "8007f13d",
   "metadata": {},
   "outputs": [
    {
     "data": {
      "text/html": [
       "<div>\n",
       "<style scoped>\n",
       "    .dataframe tbody tr th:only-of-type {\n",
       "        vertical-align: middle;\n",
       "    }\n",
       "\n",
       "    .dataframe tbody tr th {\n",
       "        vertical-align: top;\n",
       "    }\n",
       "\n",
       "    .dataframe thead th {\n",
       "        text-align: right;\n",
       "    }\n",
       "</style>\n",
       "<table border=\"1\" class=\"dataframe\">\n",
       "  <thead>\n",
       "    <tr style=\"text-align: right;\">\n",
       "      <th></th>\n",
       "      <th>PassengerId</th>\n",
       "      <th>Survived</th>\n",
       "      <th>Pclass</th>\n",
       "      <th>Name</th>\n",
       "      <th>Sex</th>\n",
       "      <th>Age</th>\n",
       "      <th>SibSp</th>\n",
       "      <th>Parch</th>\n",
       "      <th>Ticket</th>\n",
       "      <th>Fare</th>\n",
       "      <th>Cabin</th>\n",
       "      <th>Embarked</th>\n",
       "    </tr>\n",
       "  </thead>\n",
       "  <tbody>\n",
       "    <tr>\n",
       "      <th>0</th>\n",
       "      <td>892</td>\n",
       "      <td>0</td>\n",
       "      <td>3</td>\n",
       "      <td>Kelly, Mr. James</td>\n",
       "      <td>male</td>\n",
       "      <td>34.5</td>\n",
       "      <td>0</td>\n",
       "      <td>0</td>\n",
       "      <td>330911</td>\n",
       "      <td>7.8292</td>\n",
       "      <td>NaN</td>\n",
       "      <td>Q</td>\n",
       "    </tr>\n",
       "    <tr>\n",
       "      <th>1</th>\n",
       "      <td>893</td>\n",
       "      <td>1</td>\n",
       "      <td>3</td>\n",
       "      <td>Wilkes, Mrs. James (Ellen Needs)</td>\n",
       "      <td>female</td>\n",
       "      <td>47.0</td>\n",
       "      <td>1</td>\n",
       "      <td>0</td>\n",
       "      <td>363272</td>\n",
       "      <td>7.0000</td>\n",
       "      <td>NaN</td>\n",
       "      <td>S</td>\n",
       "    </tr>\n",
       "    <tr>\n",
       "      <th>2</th>\n",
       "      <td>894</td>\n",
       "      <td>0</td>\n",
       "      <td>2</td>\n",
       "      <td>Myles, Mr. Thomas Francis</td>\n",
       "      <td>male</td>\n",
       "      <td>62.0</td>\n",
       "      <td>0</td>\n",
       "      <td>0</td>\n",
       "      <td>240276</td>\n",
       "      <td>9.6875</td>\n",
       "      <td>NaN</td>\n",
       "      <td>Q</td>\n",
       "    </tr>\n",
       "    <tr>\n",
       "      <th>3</th>\n",
       "      <td>895</td>\n",
       "      <td>0</td>\n",
       "      <td>3</td>\n",
       "      <td>Wirz, Mr. Albert</td>\n",
       "      <td>male</td>\n",
       "      <td>27.0</td>\n",
       "      <td>0</td>\n",
       "      <td>0</td>\n",
       "      <td>315154</td>\n",
       "      <td>8.6625</td>\n",
       "      <td>NaN</td>\n",
       "      <td>S</td>\n",
       "    </tr>\n",
       "    <tr>\n",
       "      <th>4</th>\n",
       "      <td>896</td>\n",
       "      <td>1</td>\n",
       "      <td>3</td>\n",
       "      <td>Hirvonen, Mrs. Alexander (Helga E Lindqvist)</td>\n",
       "      <td>female</td>\n",
       "      <td>22.0</td>\n",
       "      <td>1</td>\n",
       "      <td>1</td>\n",
       "      <td>3101298</td>\n",
       "      <td>12.2875</td>\n",
       "      <td>NaN</td>\n",
       "      <td>S</td>\n",
       "    </tr>\n",
       "    <tr>\n",
       "      <th>...</th>\n",
       "      <td>...</td>\n",
       "      <td>...</td>\n",
       "      <td>...</td>\n",
       "      <td>...</td>\n",
       "      <td>...</td>\n",
       "      <td>...</td>\n",
       "      <td>...</td>\n",
       "      <td>...</td>\n",
       "      <td>...</td>\n",
       "      <td>...</td>\n",
       "      <td>...</td>\n",
       "      <td>...</td>\n",
       "    </tr>\n",
       "    <tr>\n",
       "      <th>413</th>\n",
       "      <td>1305</td>\n",
       "      <td>0</td>\n",
       "      <td>3</td>\n",
       "      <td>Spector, Mr. Woolf</td>\n",
       "      <td>male</td>\n",
       "      <td>NaN</td>\n",
       "      <td>0</td>\n",
       "      <td>0</td>\n",
       "      <td>A.5. 3236</td>\n",
       "      <td>8.0500</td>\n",
       "      <td>NaN</td>\n",
       "      <td>S</td>\n",
       "    </tr>\n",
       "    <tr>\n",
       "      <th>414</th>\n",
       "      <td>1306</td>\n",
       "      <td>1</td>\n",
       "      <td>1</td>\n",
       "      <td>Oliva y Ocana, Dona. Fermina</td>\n",
       "      <td>female</td>\n",
       "      <td>39.0</td>\n",
       "      <td>0</td>\n",
       "      <td>0</td>\n",
       "      <td>PC 17758</td>\n",
       "      <td>108.9000</td>\n",
       "      <td>C105</td>\n",
       "      <td>C</td>\n",
       "    </tr>\n",
       "    <tr>\n",
       "      <th>415</th>\n",
       "      <td>1307</td>\n",
       "      <td>0</td>\n",
       "      <td>3</td>\n",
       "      <td>Saether, Mr. Simon Sivertsen</td>\n",
       "      <td>male</td>\n",
       "      <td>38.5</td>\n",
       "      <td>0</td>\n",
       "      <td>0</td>\n",
       "      <td>SOTON/O.Q. 3101262</td>\n",
       "      <td>7.2500</td>\n",
       "      <td>NaN</td>\n",
       "      <td>S</td>\n",
       "    </tr>\n",
       "    <tr>\n",
       "      <th>416</th>\n",
       "      <td>1308</td>\n",
       "      <td>0</td>\n",
       "      <td>3</td>\n",
       "      <td>Ware, Mr. Frederick</td>\n",
       "      <td>male</td>\n",
       "      <td>NaN</td>\n",
       "      <td>0</td>\n",
       "      <td>0</td>\n",
       "      <td>359309</td>\n",
       "      <td>8.0500</td>\n",
       "      <td>NaN</td>\n",
       "      <td>S</td>\n",
       "    </tr>\n",
       "    <tr>\n",
       "      <th>417</th>\n",
       "      <td>1309</td>\n",
       "      <td>0</td>\n",
       "      <td>3</td>\n",
       "      <td>Peter, Master. Michael J</td>\n",
       "      <td>male</td>\n",
       "      <td>NaN</td>\n",
       "      <td>1</td>\n",
       "      <td>1</td>\n",
       "      <td>2668</td>\n",
       "      <td>22.3583</td>\n",
       "      <td>NaN</td>\n",
       "      <td>C</td>\n",
       "    </tr>\n",
       "  </tbody>\n",
       "</table>\n",
       "<p>418 rows × 12 columns</p>\n",
       "</div>"
      ],
      "text/plain": [
       "     PassengerId  Survived  Pclass  \\\n",
       "0            892         0       3   \n",
       "1            893         1       3   \n",
       "2            894         0       2   \n",
       "3            895         0       3   \n",
       "4            896         1       3   \n",
       "..           ...       ...     ...   \n",
       "413         1305         0       3   \n",
       "414         1306         1       1   \n",
       "415         1307         0       3   \n",
       "416         1308         0       3   \n",
       "417         1309         0       3   \n",
       "\n",
       "                                             Name     Sex   Age  SibSp  Parch  \\\n",
       "0                                Kelly, Mr. James    male  34.5      0      0   \n",
       "1                Wilkes, Mrs. James (Ellen Needs)  female  47.0      1      0   \n",
       "2                       Myles, Mr. Thomas Francis    male  62.0      0      0   \n",
       "3                                Wirz, Mr. Albert    male  27.0      0      0   \n",
       "4    Hirvonen, Mrs. Alexander (Helga E Lindqvist)  female  22.0      1      1   \n",
       "..                                            ...     ...   ...    ...    ...   \n",
       "413                            Spector, Mr. Woolf    male   NaN      0      0   \n",
       "414                  Oliva y Ocana, Dona. Fermina  female  39.0      0      0   \n",
       "415                  Saether, Mr. Simon Sivertsen    male  38.5      0      0   \n",
       "416                           Ware, Mr. Frederick    male   NaN      0      0   \n",
       "417                      Peter, Master. Michael J    male   NaN      1      1   \n",
       "\n",
       "                 Ticket      Fare Cabin Embarked  \n",
       "0                330911    7.8292   NaN        Q  \n",
       "1                363272    7.0000   NaN        S  \n",
       "2                240276    9.6875   NaN        Q  \n",
       "3                315154    8.6625   NaN        S  \n",
       "4               3101298   12.2875   NaN        S  \n",
       "..                  ...       ...   ...      ...  \n",
       "413           A.5. 3236    8.0500   NaN        S  \n",
       "414            PC 17758  108.9000  C105        C  \n",
       "415  SOTON/O.Q. 3101262    7.2500   NaN        S  \n",
       "416              359309    8.0500   NaN        S  \n",
       "417                2668   22.3583   NaN        C  \n",
       "\n",
       "[418 rows x 12 columns]"
      ]
     },
     "execution_count": 16,
     "metadata": {},
     "output_type": "execute_result"
    }
   ],
   "source": [
    "titanic=pd.read_csv(r\"C:\\Users\\mahab\\Downloads\\Telegram Desktop\\titanic_dataset.csv\")\n",
    "titanic"
   ]
  },
  {
   "cell_type": "markdown",
   "id": "5a0c17bd",
   "metadata": {},
   "source": [
    "# numerical continuous columns [Age,Fare]"
   ]
  },
  {
   "cell_type": "code",
   "execution_count": 17,
   "id": "14c1743b",
   "metadata": {},
   "outputs": [
    {
     "name": "stdout",
     "output_type": "stream",
     "text": [
      "the mean of titanic data :  Age    30.27259\n",
      "dtype: float64\n",
      "the min of titanic data :  0.17\n",
      "the max of titanic data :  76.0\n",
      "the meadiano of titanic data :  27.0\n",
      "the stardand deviation of titanic data :  14.18120923562442\n"
     ]
    }
   ],
   "source": [
    "print(\"the mean of titanic data : \",titanic[[\"Age\"]].mean())\n",
    "print(\"the min of titanic data : \",titanic[\"Age\"].min())\n",
    "print(\"the max of titanic data : \",titanic[\"Age\"].max())\n",
    "print(\"the meadiano of titanic data : \",titanic[\"Age\"].median())\n",
    "print(\"the stardand deviation of titanic data : \",titanic[\"Age\"].std())"
   ]
  },
  {
   "cell_type": "code",
   "execution_count": 18,
   "id": "2f22030f",
   "metadata": {},
   "outputs": [
    {
     "name": "stdout",
     "output_type": "stream",
     "text": [
      "the mean of titanic data :  35.627188489208635\n",
      "the min of titanic data :  0.0\n",
      "the max of titanic data :  512.3292\n",
      "the meadian of titanic data :  14.4542\n",
      "the stardand deviation of titanic data :  55.90757617997383\n"
     ]
    }
   ],
   "source": [
    "print(\"the mean of titanic data : \",titanic[\"Fare\"].mean())\n",
    "print(\"the min of titanic data : \",titanic[\"Fare\"].min())\n",
    "print(\"the max of titanic data : \",titanic[\"Fare\"].max())\n",
    "print(\"the meadian of titanic data : \",titanic[\"Fare\"].median())\n",
    "print(\"the stardand deviation of titanic data : \",titanic[\"Fare\"].std())"
   ]
  },
  {
   "cell_type": "markdown",
   "id": "cde94475",
   "metadata": {},
   "source": [
    "# For each numerical continuous column- Find themean,median,standard deviation,minimum andmaximum value. Draw histogram,kde plot andboxplot using pandas only."
   ]
  },
  {
   "cell_type": "code",
   "execution_count": 58,
   "id": "ce137b90",
   "metadata": {},
   "outputs": [
    {
     "data": {
      "text/plain": [
       "<Axes: ylabel='Frequency'>"
      ]
     },
     "execution_count": 58,
     "metadata": {},
     "output_type": "execute_result"
    },
    {
     "data": {
      "image/png": "[encoded data removed]",
      "text/plain": [
       "<Figure size 640x480 with 1 Axes>"
      ]
     },
     "metadata": {},
     "output_type": "display_data"
    }
   ],
   "source": [
    "titanic[\"Age\"].plot(kind=\"hist\")"
   ]
  },
  {
   "cell_type": "code",
   "execution_count": 60,
   "id": "eb9c7266",
   "metadata": {},
   "outputs": [
    {
     "data": {
      "text/plain": [
       "<Axes: ylabel='Density'>"
      ]
     },
     "execution_count": 60,
     "metadata": {},
     "output_type": "execute_result"
    },
    {
     "data": {
      "image/png": "[encoded data removed]",
      "text/plain": [
       "<Figure size 640x480 with 1 Axes>"
      ]
     },
     "metadata": {},
     "output_type": "display_data"
    }
   ],
   "source": [
    "titanic[\"Age\"].plot(kind=\"kde\")"
   ]
  },
  {
   "cell_type": "code",
   "execution_count": 24,
   "id": "f58f7a81",
   "metadata": {},
   "outputs": [
    {
     "data": {
      "text/plain": [
       "<Axes: >"
      ]
     },
     "execution_count": 24,
     "metadata": {},
     "output_type": "execute_result"
    },
    {
     "data": {
      "image/png": "[encoded data removed]",
      "text/plain": [
       "<Figure size 640x480 with 1 Axes>"
      ]
     },
     "metadata": {},
     "output_type": "display_data"
    }
   ],
   "source": [
    "titanic[\"Age\"].plot(kind=\"box\")"
   ]
  },
  {
   "cell_type": "code",
   "execution_count": 25,
   "id": "15fc9114",
   "metadata": {},
   "outputs": [
    {
     "data": {
      "text/plain": [
       "<Axes: ylabel='Frequency'>"
      ]
     },
     "execution_count": 25,
     "metadata": {},
     "output_type": "execute_result"
    },
    {
     "data": {
      "image/png": "[encoded data removed]",
      "text/plain": [
       "<Figure size 640x480 with 1 Axes>"
      ]
     },
     "metadata": {},
     "output_type": "display_data"
    }
   ],
   "source": [
    "titanic[\"Fare\"].plot(kind=\"hist\")"
   ]
  },
  {
   "cell_type": "code",
   "execution_count": 26,
   "id": "c22218f2",
   "metadata": {},
   "outputs": [
    {
     "data": {
      "text/plain": [
       "<Axes: ylabel='Density'>"
      ]
     },
     "execution_count": 26,
     "metadata": {},
     "output_type": "execute_result"
    },
    {
     "data": {
      "image/png": "[encoded data removed]",
      "text/plain": [
       "<Figure size 640x480 with 1 Axes>"
      ]
     },
     "metadata": {},
     "output_type": "display_data"
    }
   ],
   "source": [
    "titanic[\"Fare\"].plot(kind=\"kde\")"
   ]
  },
  {
   "cell_type": "code",
   "execution_count": 27,
   "id": "9ee9378a",
   "metadata": {},
   "outputs": [
    {
     "data": {
      "text/plain": [
       "<Axes: >"
      ]
     },
     "execution_count": 27,
     "metadata": {},
     "output_type": "execute_result"
    },
    {
     "data": {
      "image/png": "[encoded data removed]",
      "text/plain": [
       "<Figure size 640x480 with 1 Axes>"
      ]
     },
     "metadata": {},
     "output_type": "display_data"
    }
   ],
   "source": [
    "titanic[\"Fare\"].plot(kind=\"box\")"
   ]
  },
  {
   "cell_type": "markdown",
   "id": "f4c28678",
   "metadata": {},
   "source": [
    "# # For discrete columns find the number of uniquevalues,unique values and value_counts. Draw barplot and pie chart using pandas only."
   ]
  },
  {
   "cell_type": "markdown",
   "id": "2c850640",
   "metadata": {},
   "source": [
    "#  Discrete Columns [Survived, Pclass, Sex, SibSp, Parch, Embarked]"
   ]
  },
  {
   "cell_type": "code",
   "execution_count": 52,
   "id": "2d6bfc19",
   "metadata": {},
   "outputs": [
    {
     "name": "stdout",
     "output_type": "stream",
     "text": [
      "the unique values pesent in titanic data : [0 1 3 2 4 6 5 9]\n",
      "the  number of unique values pesent in titanic data : 8\n",
      "the count of each value present in titanic data :  0    324\n",
      "1     52\n",
      "2     33\n",
      "3      3\n",
      "4      2\n",
      "9      2\n",
      "6      1\n",
      "5      1\n",
      "Name: Parch, dtype: int64\n",
      "Axes(0.125,0.11;0.775x0.77)\n"
     ]
    },
    {
     "data": {
      "image/png": "[encoded data removed]",
      "text/plain": [
       "<Figure size 640x480 with 1 Axes>"
      ]
     },
     "metadata": {},
     "output_type": "display_data"
    }
   ],
   "source": [
    "print(\"the unique values pesent in titanic data :\",titanic[\"Parch\"].unique())\n",
    "print(\"the  number of unique values pesent in titanic data :\",titanic[\"Parch\"].nunique())\n",
    "print(\"the count of each value present in titanic data : \",titanic[\"Parch\"].value_counts())\n",
    "print(titanic[\"Parch\"].value_counts().plot(kind=\"bar\",color=\"black\"))\n"
   ]
  },
  {
   "cell_type": "code",
   "execution_count": 51,
   "id": "ad234b3b",
   "metadata": {},
   "outputs": [
    {
     "name": "stdout",
     "output_type": "stream",
     "text": [
      "Axes(0.22375,0.11;0.5775x0.77)\n"
     ]
    },
    {
     "data": {
      "image/png": "[encoded data removed]",
      "text/plain": [
       "<Figure size 640x480 with 1 Axes>"
      ]
     },
     "metadata": {},
     "output_type": "display_data"
    }
   ],
   "source": [
    "print(titanic[\"Parch\"].value_counts().plot(kind=\"pie\",autopct=\"%0.1f%%\"))"
   ]
  },
  {
   "cell_type": "code",
   "execution_count": 53,
   "id": "5d6127b6",
   "metadata": {},
   "outputs": [
    {
     "name": "stdout",
     "output_type": "stream",
     "text": [
      "the unique values pesent in titanic data : [3 2 1]\n",
      "the  number of unique values pesent in titanic data : 3\n",
      "the count of each value present in titanic data :  3    218\n",
      "1    107\n",
      "2     93\n",
      "Name: Pclass, dtype: int64\n",
      "Axes(0.125,0.11;0.775x0.77)\n"
     ]
    },
    {
     "data": {
      "image/png": "[encoded data removed]",
      "text/plain": [
       "<Figure size 640x480 with 1 Axes>"
      ]
     },
     "metadata": {},
     "output_type": "display_data"
    }
   ],
   "source": [
    "print(\"the unique values pesent in titanic data :\",titanic[\"Pclass\"].unique())\n",
    "print(\"the  number of unique values pesent in titanic data :\",titanic[\"Pclass\"].nunique())\n",
    "print(\"the count of each value present in titanic data : \",titanic[\"Pclass\"].value_counts())\n",
    "print(titanic[\"Pclass\"].value_counts().plot(kind=\"bar\",color=\"pink\"))\n"
   ]
  },
  {
   "cell_type": "code",
   "execution_count": 49,
   "id": "fcd7cb37",
   "metadata": {},
   "outputs": [
    {
     "name": "stdout",
     "output_type": "stream",
     "text": [
      "Axes(0.22375,0.11;0.5775x0.77)\n"
     ]
    },
    {
     "data": {
      "image/png": "[encoded data removed]",
      "text/plain": [
       "<Figure size 640x480 with 1 Axes>"
      ]
     },
     "metadata": {},
     "output_type": "display_data"
    }
   ],
   "source": [
    "print(titanic[\"Pclass\"].value_counts().plot(kind=\"pie\",autopct=\"%0.1f%%\"))"
   ]
  },
  {
   "cell_type": "code",
   "execution_count": 56,
   "id": "a9ad8ba1",
   "metadata": {},
   "outputs": [
    {
     "name": "stdout",
     "output_type": "stream",
     "text": [
      "the unique values pesent in titanic data : [0 1 2 3 4 5 8]\n",
      "the  number of unique values pesent in titanic data : 7\n",
      "the count of each value present in titanic data :  0    283\n",
      "1    110\n",
      "2     14\n",
      "3      4\n",
      "4      4\n",
      "8      2\n",
      "5      1\n",
      "Name: SibSp, dtype: int64\n",
      "Axes(0.125,0.11;0.775x0.77)\n"
     ]
    },
    {
     "data": {
      "image/png": "[encoded data removed]",
      "text/plain": [
       "<Figure size 640x480 with 1 Axes>"
      ]
     },
     "metadata": {},
     "output_type": "display_data"
    }
   ],
   "source": [
    "print(\"the unique values pesent in titanic data :\",titanic[\"SibSp\"].unique())\n",
    "print(\"the  number of unique values pesent in titanic data :\",titanic[\"SibSp\"].nunique())\n",
    "print(\"the count of each value present in titanic data : \",titanic[\"SibSp\"].value_counts())\n",
    "print(titanic[\"SibSp\"].value_counts().plot(kind=\"bar\",color=\"gold\"))\n"
   ]
  },
  {
   "cell_type": "code",
   "execution_count": 44,
   "id": "571ead30",
   "metadata": {},
   "outputs": [
    {
     "data": {
      "text/plain": [
       "<Axes: ylabel='SibSp'>"
      ]
     },
     "execution_count": 44,
     "metadata": {},
     "output_type": "execute_result"
    },
    {
     "data": {
      "image/png": "[encoded data removed]",
      "text/plain": [
       "<Figure size 640x480 with 1 Axes>"
      ]
     },
     "metadata": {},
     "output_type": "display_data"
    }
   ],
   "source": [
    "titanic[\"SibSp\"].value_counts().plot(kind=(\"pie\"),autopct=\"%0.1f%%\")"
   ]
  },
  {
   "cell_type": "code",
   "execution_count": 38,
   "id": "ffacb41e",
   "metadata": {},
   "outputs": [
    {
     "name": "stdout",
     "output_type": "stream",
     "text": [
      "the unique values pesent in titanic data : ['male' 'female']\n",
      "the  number of unique values pesent in titanic data : 2\n",
      "the count of each value present in titanic data :  male      266\n",
      "female    152\n",
      "Name: Sex, dtype: int64\n",
      "Axes(0.125,0.11;0.775x0.77)\n"
     ]
    },
    {
     "data": {
      "image/png": "[encoded data removed]",
      "text/plain": [
       "<Figure size 640x480 with 1 Axes>"
      ]
     },
     "metadata": {},
     "output_type": "display_data"
    }
   ],
   "source": [
    "print(\"the unique values pesent in titanic data :\",titanic[\"Sex\"].unique())\n",
    "print(\"the  number of unique values pesent in titanic data :\",titanic[\"Sex\"].nunique())\n",
    "print(\"the count of each value present in titanic data : \",titanic[\"Sex\"].value_counts())\n",
    "print(titanic[\"Sex\"].value_counts().plot(kind=\"bar\",color=\"red\"))\n"
   ]
  },
  {
   "cell_type": "code",
   "execution_count": 40,
   "id": "a3240347",
   "metadata": {},
   "outputs": [
    {
     "name": "stdout",
     "output_type": "stream",
     "text": [
      "Axes(0.22375,0.11;0.5775x0.77)\n"
     ]
    },
    {
     "data": {
      "image/png": "[encoded data removed]",
      "text/plain": [
       "<Figure size 640x480 with 1 Axes>"
      ]
     },
     "metadata": {},
     "output_type": "display_data"
    }
   ],
   "source": [
    "print(titanic[\"Sex\"].value_counts().plot(kind=\"pie\",autopct=\"%0.1f%%\"))"
   ]
  },
  {
   "cell_type": "code",
   "execution_count": 36,
   "id": "24a109c2",
   "metadata": {},
   "outputs": [
    {
     "name": "stdout",
     "output_type": "stream",
     "text": [
      "the unique values pesent in titanic data : ['Q' 'S' 'C']\n",
      "the  number of unique values pesent in titanic data : 3\n",
      "the count of each value present in titanic data :  S    270\n",
      "C    102\n",
      "Q     46\n",
      "Name: Embarked, dtype: int64\n",
      "Axes(0.125,0.11;0.775x0.77)\n"
     ]
    },
    {
     "data": {
      "image/png": "[encoded data removed]",
      "text/plain": [
       "<Figure size 640x480 with 1 Axes>"
      ]
     },
     "metadata": {},
     "output_type": "display_data"
    }
   ],
   "source": [
    "print(\"the unique values pesent in titanic data :\",titanic[\"Embarked\"].unique())\n",
    "print(\"the  number of unique values pesent in titanic data :\",titanic[\"Embarked\"].nunique())\n",
    "print(\"the count of each value present in titanic data : \",titanic[\"Embarked\"].value_counts())\n",
    "print(titanic[\"Embarked\"].value_counts().plot(kind=\"bar\",color=\"yellow\"))"
   ]
  },
  {
   "cell_type": "code",
   "execution_count": 93,
   "id": "a59fd5eb",
   "metadata": {},
   "outputs": [
    {
     "data": {
      "text/plain": [
       "<Axes: ylabel='Embarked'>"
      ]
     },
     "execution_count": 93,
     "metadata": {},
     "output_type": "execute_result"
    },
    {
     "data": {
      "image/png": "[encoded data removed]",
      "text/plain": [
       "<Figure size 640x480 with 1 Axes>"
      ]
     },
     "metadata": {},
     "output_type": "display_data"
    }
   ],
   "source": [
    "titanic[\"Embarked\"].value_counts().plot(kind=\"pie\",autopct=\"%0.2f%%\")"
   ]
  },
  {
   "cell_type": "code",
   "execution_count": 55,
   "id": "c939b928",
   "metadata": {},
   "outputs": [
    {
     "name": "stdout",
     "output_type": "stream",
     "text": [
      "the unique values pesent in titanic data : [0 1]\n",
      "the  number of unique values pesent in titanic data : 2\n",
      "the count of each value present in titanic data :  0    266\n",
      "1    152\n",
      "Name: Survived, dtype: int64\n",
      "Axes(0.125,0.11;0.775x0.77)\n"
     ]
    },
    {
     "data": {
      "image/png": "[encoded data removed]",
      "text/plain": [
       "<Figure size 640x480 with 1 Axes>"
      ]
     },
     "metadata": {},
     "output_type": "display_data"
    }
   ],
   "source": [
    "print(\"the unique values pesent in titanic data :\",titanic[\"Survived\"].unique())\n",
    "print(\"the  number of unique values pesent in titanic data :\",titanic[\"Survived\"].nunique())\n",
    "print(\"the count of each value present in titanic data : \",titanic[\"Survived\"].value_counts())\n",
    "print(titanic[\"Survived\"].value_counts().plot(kind=\"bar\",color=\"green\"))"
   ]
  },
  {
   "cell_type": "code",
   "execution_count": 118,
   "id": "06dbda58",
   "metadata": {},
   "outputs": [
    {
     "name": "stdout",
     "output_type": "stream",
     "text": [
      "Axes(0.22375,0.11;0.5775x0.77)\n"
     ]
    },
    {
     "data": {
      "image/png": "[encoded data removed]",
      "text/plain": [
       "<Figure size 640x480 with 1 Axes>"
      ]
     },
     "metadata": {},
     "output_type": "display_data"
    }
   ],
   "source": [
    "print(titanic[\"Survived\"].value_counts().plot(kind=\"pie\",autopct=\"%1.1f%%\"))"
   ]
  },
  {
   "cell_type": "code",
   "execution_count": null,
   "id": "5ac0a3aa",
   "metadata": {},
   "outputs": [],
   "source": []
  },
  {
   "cell_type": "code",
   "execution_count": null,
   "id": "9d3e9435",
   "metadata": {},
   "outputs": [],
   "source": []
  }
 ],
 "metadata": {
  "kernelspec": {
   "display_name": "Python 3 (ipykernel)",
   "language": "python",
   "name": "python3"
  },
  "language_info": {
   "codemirror_mode": {
    "name": "ipython",
    "version": 3
   },
   "file_extension": ".py",
   "mimetype": "text/x-python",
   "name": "python",
   "nbconvert_exporter": "python",
   "pygments_lexer": "ipython3",
   "version": "3.11.4"
  }
 },
 "nbformat": 4,
 "nbformat_minor": 5
}
